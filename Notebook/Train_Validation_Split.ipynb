{
  "nbformat": 4,
  "nbformat_minor": 0,
  "metadata": {
    "kernelspec": {
      "display_name": "Python 3",
      "language": "python",
      "name": "python3"
    },
    "language_info": {
      "codemirror_mode": {
        "name": "ipython",
        "version": 3
      },
      "file_extension": ".py",
      "mimetype": "text/x-python",
      "name": "python",
      "nbconvert_exporter": "python",
      "pygments_lexer": "ipython3",
      "version": "3.7.4"
    },
    "colab": {
      "name": "Train_Validation_Split.ipynb",
      "provenance": [],
      "collapsed_sections": []
    }
  },
  "cells": [
    {
      "cell_type": "markdown",
      "metadata": {
        "id": "B8vr8CEKiLq8"
      },
      "source": [
        "**Importing the required libraries**"
      ]
    },
    {
      "cell_type": "code",
      "metadata": {
        "id": "pv39WL_niLrD"
      },
      "source": [
        "import os\n",
        "import numpy as np\n",
        "import shutil\n",
        "train_dir = \"train\\\\train\\\\\""
      ],
      "execution_count": null,
      "outputs": []
    },
    {
      "cell_type": "markdown",
      "metadata": {
        "id": "ZuDjjR_wiLrF"
      },
      "source": [
        "**Creating folders for training and validation set of images**"
      ]
    },
    {
      "cell_type": "code",
      "metadata": {
        "id": "rLdLohSBiLrG"
      },
      "source": [
        "# Create folders for  training data and validation randomly splitted \n",
        "new_train = os.mkdir(\"new_train\")\n",
        "new_valid = os.mkdir(\"new_valid\")"
      ],
      "execution_count": null,
      "outputs": []
    },
    {
      "cell_type": "markdown",
      "metadata": {
        "id": "USmNe_BtiLrG"
      },
      "source": [
        "**Setting the directory for storing trainig and validation set images**"
      ]
    },
    {
      "cell_type": "code",
      "metadata": {
        "id": "7cIO7O6ciLrH"
      },
      "source": [
        "new_train_dir = \"new_train\\\\\"\n",
        "new_valid_dir = \"new_valid\\\\\""
      ],
      "execution_count": null,
      "outputs": []
    },
    {
      "cell_type": "markdown",
      "metadata": {
        "id": "ilYuCL_biLrH"
      },
      "source": [
        "**Getting the classes from the training set of images**"
      ]
    },
    {
      "cell_type": "code",
      "metadata": {
        "id": "CD86j84MiLrH"
      },
      "source": [
        "classes = os.listdir(train_dir) "
      ],
      "execution_count": null,
      "outputs": []
    },
    {
      "cell_type": "markdown",
      "metadata": {
        "id": "vvGzcB51iLrH"
      },
      "source": [
        "**Displaying the class names**"
      ]
    },
    {
      "cell_type": "code",
      "metadata": {
        "id": "-_XtHThPiLrI",
        "outputId": "6ed80647-20e4-4e4e-c02c-9c69e2b043c7"
      },
      "source": [
        "classes"
      ],
      "execution_count": null,
      "outputs": [
        {
          "output_type": "execute_result",
          "data": {
            "text/plain": [
              "['ALB', 'BET', 'DOL', 'LAG', 'NoF', 'OTHER', 'SHARK', 'YFT']"
            ]
          },
          "metadata": {
            "tags": []
          },
          "execution_count": 5
        }
      ]
    },
    {
      "cell_type": "markdown",
      "metadata": {
        "id": "d407gB5SiLrJ"
      },
      "source": [
        "**Creating target folders in the new train data directory**"
      ]
    },
    {
      "cell_type": "code",
      "metadata": {
        "id": "-LOOAnFGiLrJ"
      },
      "source": [
        "for c in classes:\n",
        "    os.mkdir(new_train_dir+c)"
      ],
      "execution_count": null,
      "outputs": []
    },
    {
      "cell_type": "markdown",
      "metadata": {
        "id": "_5JMNu_uiLrJ"
      },
      "source": [
        "**Create validation folders in the new validation data directory**"
      ]
    },
    {
      "cell_type": "code",
      "metadata": {
        "id": "_rKk6nmIiLrK"
      },
      "source": [
        "for c in classes:\n",
        "    os.mkdir(new_valid_dir+c)"
      ],
      "execution_count": null,
      "outputs": []
    },
    {
      "cell_type": "markdown",
      "metadata": {
        "id": "QZN7eHSYiLrK"
      },
      "source": [
        "**Creating folders for each of the classes to store their respective images**"
      ]
    },
    {
      "cell_type": "code",
      "metadata": {
        "id": "JN-bJJJqiLrL"
      },
      "source": [
        "fish_path= train_dir+classes[0]+'\\\\'"
      ],
      "execution_count": null,
      "outputs": []
    },
    {
      "cell_type": "markdown",
      "metadata": {
        "id": "rhNFuM7piLrM"
      },
      "source": [
        "**Storing the training and validation set images in their respective class folders**"
      ]
    },
    {
      "cell_type": "code",
      "metadata": {
        "id": "N7ackk-QiLrM"
      },
      "source": [
        "for species in classes:\n",
        "    fish_root = train_dir+species+'\\\\'\n",
        "    fish_new_train = new_train_dir + species + '\\\\'\n",
        "    fish_new_valid = new_valid_dir + species + '\\\\'\n",
        "    fish_root_list = os.listdir(fish_root)\n",
        "    test_size = 0.8\n",
        "    split_index = int(0.8*len(fish_root_list))\n",
        "    np.random.shuffle(fish_root_list)\n",
        "    train_list = fish_root_list[:split_index]\n",
        "    valid_list = fish_root_list[split_index:]\n",
        "    for image in train_list :\n",
        "        source = fish_root + image\n",
        "        target = fish_new_train + image\n",
        "        shutil.copy(source,target)\n",
        "    for image in valid_list:\n",
        "        source = fish_root + image\n",
        "        target = fish_new_valid + image\n",
        "        shutil.copy(source,target)"
      ],
      "execution_count": null,
      "outputs": []
    },
    {
      "cell_type": "code",
      "metadata": {
        "id": "89kYbONniLrN"
      },
      "source": [
        "train_no = []\n",
        "valid_no = []\n",
        "for c in classes:\n",
        "    train_no.append((len(os.listdir(new_train_dir+c+'\\\\'))))\n",
        "    valid_no.append(len(os.listdir(new_valid_dir+c+'\\\\')))"
      ],
      "execution_count": null,
      "outputs": []
    },
    {
      "cell_type": "markdown",
      "metadata": {
        "id": "Z8MHfnbwiLrO"
      },
      "source": [
        "**We see that there are 3019 training set images**"
      ]
    },
    {
      "cell_type": "code",
      "metadata": {
        "id": "eUNOb4wWiLrP",
        "outputId": "9260fed8-bdf8-4b97-f5d7-9c7092008dac"
      },
      "source": [
        "sum(train_no) "
      ],
      "execution_count": null,
      "outputs": [
        {
          "output_type": "execute_result",
          "data": {
            "text/plain": [
              "3019"
            ]
          },
          "metadata": {
            "tags": []
          },
          "execution_count": 11
        }
      ]
    },
    {
      "cell_type": "markdown",
      "metadata": {
        "id": "x6h9o-U_iLrQ"
      },
      "source": [
        "**We see that there are 758 validation set images**"
      ]
    },
    {
      "cell_type": "code",
      "metadata": {
        "id": "jt52fEl1iLrR",
        "outputId": "1a145969-947d-4b68-a533-73dd73efeedf"
      },
      "source": [
        "sum(valid_no)"
      ],
      "execution_count": null,
      "outputs": [
        {
          "output_type": "execute_result",
          "data": {
            "text/plain": [
              "758"
            ]
          },
          "metadata": {
            "tags": []
          },
          "execution_count": 12
        }
      ]
    },
    {
      "cell_type": "markdown",
      "metadata": {
        "id": "xsNq9HlyiLrS"
      },
      "source": [
        "**Conclusion**\n",
        "\n",
        "* In this notebook, we split the original training data into training and validation sets "
      ]
    },
    {
      "cell_type": "markdown",
      "metadata": {
        "id": "jZ_wYe1liLrU"
      },
      "source": [
        "**License**\n",
        "\n",
        "MIT License\n",
        "\n",
        "Copyright (c) 2020 [ Prasham Shah, Priyanka Bandekar ]\n",
        "\n",
        "Permission is hereby granted, free of charge, to any person obtaining a copy\n",
        "of this software and associated documentation files (the \"Software\"), to deal\n",
        "in the Software without restriction, including without limitation the rights\n",
        "to use, copy, modify, merge, publish, distribute, sublicense, and/or sell\n",
        "copies of the Software, and to permit persons to whom the Software is\n",
        "furnished to do so, subject to the following conditions:\n",
        "\n",
        "The above copyright notice and this permission notice shall be included in all\n",
        "copies or substantial portions of the Software.\n",
        "\n",
        "THE SOFTWARE IS PROVIDED \"AS IS\", WITHOUT WARRANTY OF ANY KIND, EXPRESS OR\n",
        "IMPLIED, INCLUDING BUT NOT LIMITED TO THE WARRANTIES OF MERCHANTABILITY,\n",
        "FITNESS FOR A PARTICULAR PURPOSE AND NONINFRINGEMENT. IN NO EVENT SHALL THE\n",
        "AUTHORS OR COPYRIGHT HOLDERS BE LIABLE FOR ANY CLAIM, DAMAGES OR OTHER\n",
        "LIABILITY, WHETHER IN AN ACTION OF CONTRACT, TORT OR OTHERWISE, ARISING FROM,\n",
        "OUT OF OR IN CONNECTION WITH THE SOFTWARE OR THE USE OR OTHER DEALINGS IN THE\n",
        "SOFTWARE."
      ]
    },
    {
      "cell_type": "code",
      "metadata": {
        "id": "JDTBe7jmiLrV"
      },
      "source": [
        ""
      ],
      "execution_count": null,
      "outputs": []
    }
  ]
}