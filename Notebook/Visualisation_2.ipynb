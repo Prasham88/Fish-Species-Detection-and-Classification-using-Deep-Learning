{
  "nbformat": 4,
  "nbformat_minor": 0,
  "metadata": {
    "kernelspec": {
      "display_name": "Python 3",
      "language": "python",
      "name": "python3"
    },
    "language_info": {
      "codemirror_mode": {
        "name": "ipython",
        "version": 3
      },
      "file_extension": ".py",
      "mimetype": "text/x-python",
      "name": "python",
      "nbconvert_exporter": "python",
      "pygments_lexer": "ipython3",
      "version": "3.7.4"
    },
    "colab": {
      "name": "Visualisation_2.ipynb",
      "provenance": [],
      "collapsed_sections": []
    }
  },
  "cells": [
    {
      "cell_type": "markdown",
      "metadata": {
        "id": "sYglcC5mipjr"
      },
      "source": [
        "**Importing the required libraries**"
      ]
    },
    {
      "cell_type": "code",
      "metadata": {
        "id": "LkFoI4Njipj1"
      },
      "source": [
        "import matplotlib.pyplot as plt\n",
        "import os\n",
        "import numpy as np\n",
        "import pandas as pd"
      ],
      "execution_count": null,
      "outputs": []
    },
    {
      "cell_type": "markdown",
      "metadata": {
        "id": "2V-GKl5dipj2"
      },
      "source": [
        "**Setting directories to obtain images from the train and validation sets**"
      ]
    },
    {
      "cell_type": "code",
      "metadata": {
        "id": "AqZSKd-7ipj2"
      },
      "source": [
        "train_dir = \"new_train\"\n",
        "valid_dir = \"new_valid\""
      ],
      "execution_count": null,
      "outputs": []
    },
    {
      "cell_type": "markdown",
      "metadata": {
        "id": "LvJsIhBiipj3"
      },
      "source": [
        "**Defining a plotting style**"
      ]
    },
    {
      "cell_type": "code",
      "metadata": {
        "id": "lktYNGRPipj3"
      },
      "source": [
        "plt.style.use(\"ggplot\")"
      ],
      "execution_count": null,
      "outputs": []
    },
    {
      "cell_type": "markdown",
      "metadata": {
        "id": "Z9KbkgaKipj3"
      },
      "source": [
        "**Reading the class values from the training set of images**"
      ]
    },
    {
      "cell_type": "code",
      "metadata": {
        "id": "l_VCmMO9ipj4"
      },
      "source": [
        "classes = os.listdir(train_dir)"
      ],
      "execution_count": null,
      "outputs": []
    },
    {
      "cell_type": "markdown",
      "metadata": {
        "id": "7NvUkv3-ipj4"
      },
      "source": [
        "**Displaying the classes**"
      ]
    },
    {
      "cell_type": "code",
      "metadata": {
        "id": "8lo3Edkiipj4",
        "outputId": "91ded836-1850-4a53-b8d1-832376787945"
      },
      "source": [
        "classes"
      ],
      "execution_count": null,
      "outputs": [
        {
          "output_type": "execute_result",
          "data": {
            "text/plain": [
              "['ALB', 'BET', 'DOL', 'LAG', 'NoF', 'OTHER', 'SHARK', 'YFT']"
            ]
          },
          "metadata": {
            "tags": []
          },
          "execution_count": 5
        }
      ]
    },
    {
      "cell_type": "markdown",
      "metadata": {
        "id": "IKKfvgGDipj6"
      },
      "source": [
        "**Reading the count for each of the training set example**"
      ]
    },
    {
      "cell_type": "code",
      "metadata": {
        "id": "RVV0mARsipj6"
      },
      "source": [
        "train_values = [] \n",
        "for c in classes:\n",
        "    train_values.append(len(os.listdir(train_dir+'\\\\'+c)))"
      ],
      "execution_count": null,
      "outputs": []
    },
    {
      "cell_type": "markdown",
      "metadata": {
        "id": "HTPEMDz-ipj6"
      },
      "source": [
        "**Reading the count for each of the valid set example**"
      ]
    },
    {
      "cell_type": "code",
      "metadata": {
        "id": "yZfM4ThWipj6"
      },
      "source": [
        "valid_values = []\n",
        "for c in classes:\n",
        "    valid_values.append(len(os.listdir(valid_dir+'\\\\'+c)))"
      ],
      "execution_count": null,
      "outputs": []
    },
    {
      "cell_type": "markdown",
      "metadata": {
        "id": "_Ibgi_bzipj7"
      },
      "source": [
        "**Displaying the valid value count for each class of image**"
      ]
    },
    {
      "cell_type": "code",
      "metadata": {
        "id": "iGR2yFqQipj7",
        "outputId": "f6c1f512-74de-4546-8bda-79857a3f09c0"
      },
      "source": [
        "valid_values"
      ],
      "execution_count": null,
      "outputs": [
        {
          "output_type": "execute_result",
          "data": {
            "text/plain": [
              "[344, 40, 24, 14, 93, 60, 36, 147]"
            ]
          },
          "metadata": {
            "tags": []
          },
          "execution_count": 8
        }
      ]
    },
    {
      "cell_type": "markdown",
      "metadata": {
        "id": "J1dcF050ipj7"
      },
      "source": [
        "**Setting the indices for the image**"
      ]
    },
    {
      "cell_type": "code",
      "metadata": {
        "id": "rSQ8Mpa6ipj8"
      },
      "source": [
        "indexes = [0,1,2,3,4,5,6,7]"
      ],
      "execution_count": null,
      "outputs": []
    },
    {
      "cell_type": "markdown",
      "metadata": {
        "id": "dU6L1cLKipj8"
      },
      "source": [
        "**Setting the plotting parameter**"
      ]
    },
    {
      "cell_type": "code",
      "metadata": {
        "id": "zqfFLHv4ipj8"
      },
      "source": [
        "%matplotlib inline"
      ],
      "execution_count": null,
      "outputs": []
    },
    {
      "cell_type": "markdown",
      "metadata": {
        "id": "33zvBr3Hipj8"
      },
      "source": [
        "**Creating a distribution for classes in the training set**"
      ]
    },
    {
      "cell_type": "code",
      "metadata": {
        "id": "xmB7LHJGipj9",
        "outputId": "f0981c3f-d581-4ec4-b35f-88f9f60c3a29"
      },
      "source": [
        "plt.bar(indexes,train_values)\n",
        "plt.xticks(indexes,classes)\n",
        "plt.title(\"Distribution of Classes in Training Set\")"
      ],
      "execution_count": null,
      "outputs": [
        {
          "output_type": "execute_result",
          "data": {
            "text/plain": [
              "Text(0.5, 1.0, 'Distribution of Classes in Training Set')"
            ]
          },
          "metadata": {
            "tags": []
          },
          "execution_count": 11
        },
        {
          "output_type": "display_data",
          "data": {
            "image/png": "[encoded data removed]",
            "text/plain": [
              "<Figure size 432x288 with 1 Axes>"
            ]
          },
          "metadata": {
            "tags": [],
            "needs_background": "light"
          }
        }
      ]
    },
    {
      "cell_type": "markdown",
      "metadata": {
        "id": "KvsxXDHQipj9"
      },
      "source": [
        "**Creating a distribution for classes in the validation set**"
      ]
    },
    {
      "cell_type": "code",
      "metadata": {
        "id": "_6vuBpC8ipj9",
        "outputId": "0598ab57-c083-4efd-f623-03214cf7078c"
      },
      "source": [
        "plt.bar(indexes,valid_values)\n",
        "plt.xticks(indexes,classes)\n",
        "plt.title(\"Distribution of Classes in Validation Set\")\n"
      ],
      "execution_count": null,
      "outputs": [
        {
          "output_type": "execute_result",
          "data": {
            "text/plain": [
              "Text(0.5, 1.0, 'Distribution of Classes in Validation Set')"
            ]
          },
          "metadata": {
            "tags": []
          },
          "execution_count": 12
        },
        {
          "output_type": "display_data",
          "data": {
            "image/png": "[encoded data removed]",
            "text/plain": [
              "<Figure size 432x288 with 1 Axes>"
            ]
          },
          "metadata": {
            "tags": [],
            "needs_background": "light"
          }
        }
      ]
    },
    {
      "cell_type": "markdown",
      "metadata": {
        "id": "bK0pQn9jipj-"
      },
      "source": [
        "**Conclusion**\n",
        "\n",
        "* In this notebook, we create some plots to find the distribution of our training and validation data"
      ]
    },
    {
      "cell_type": "markdown",
      "metadata": {
        "id": "PLCpQxVKipj-"
      },
      "source": [
        "**License**\n",
        "\n",
        "MIT License\n",
        "\n",
        "Copyright (c) 2020 [ Prasham Shah, Priyanka Bandekar ]\n",
        "\n",
        "Permission is hereby granted, free of charge, to any person obtaining a copy\n",
        "of this software and associated documentation files (the \"Software\"), to deal\n",
        "in the Software without restriction, including without limitation the rights\n",
        "to use, copy, modify, merge, publish, distribute, sublicense, and/or sell\n",
        "copies of the Software, and to permit persons to whom the Software is\n",
        "furnished to do so, subject to the following conditions:\n",
        "\n",
        "The above copyright notice and this permission notice shall be included in all\n",
        "copies or substantial portions of the Software.\n",
        "\n",
        "THE SOFTWARE IS PROVIDED \"AS IS\", WITHOUT WARRANTY OF ANY KIND, EXPRESS OR\n",
        "IMPLIED, INCLUDING BUT NOT LIMITED TO THE WARRANTIES OF MERCHANTABILITY,\n",
        "FITNESS FOR A PARTICULAR PURPOSE AND NONINFRINGEMENT. IN NO EVENT SHALL THE\n",
        "AUTHORS OR COPYRIGHT HOLDERS BE LIABLE FOR ANY CLAIM, DAMAGES OR OTHER\n",
        "LIABILITY, WHETHER IN AN ACTION OF CONTRACT, TORT OR OTHERWISE, ARISING FROM,\n",
        "OUT OF OR IN CONNECTION WITH THE SOFTWARE OR THE USE OR OTHER DEALINGS IN THE\n",
        "SOFTWARE."
      ]
    },
    {
      "cell_type": "code",
      "metadata": {
        "id": "DYD6l7rmipj-"
      },
      "source": [
        ""
      ],
      "execution_count": null,
      "outputs": []
    }
  ]
}